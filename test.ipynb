{
 "cells": [
  {
   "cell_type": "code",
   "execution_count": 1,
   "metadata": {},
   "outputs": [],
   "source": [
    "import json\n",
    "data = './data.json'\n",
    "data = json.load(open(data, 'r'))\n",
    "pdb_id = list(data.keys())\n",
    "ds = list(data.values())"
   ]
  },
  {
   "cell_type": "code",
   "execution_count": 2,
   "metadata": {},
   "outputs": [],
   "source": [
    "from tokenization import Tokenizer\n",
    "\n",
    "encoder_vocab = ['PAD', 'SOS', 'EOS', 'A', 'R', 'N', 'D', 'C', 'Q', 'E', 'G', 'H', 'I', 'L', 'K', 'M', 'F', 'P', 'S', 'T', 'W', 'Y', 'V']\n",
    "decoder_vocab = encoder_vocab + ['SEP']\n",
    "\n",
    "# Make a dictionary\n",
    "encoder_vocab = {encoder_vocab[i]: i for i in range(len(encoder_vocab))}\n",
    "decoder_vocab = {decoder_vocab[i]: i for i in range(len(decoder_vocab))}\n",
    "\n",
    "enc_tokenizer = Tokenizer(encoder_vocab, pre_tokenizer=' ')\n",
    "dec_tokenizer = Tokenizer(decoder_vocab, pre_tokenizer=' ')\n"
   ]
  },
  {
   "cell_type": "code",
   "execution_count": 3,
   "metadata": {},
   "outputs": [
    {
     "data": {
      "text/plain": [
       "'T N L C P F G E V F N A T R F A S V Y A W N R K R I S N C V A D Y S V L Y N S A S F S T F K C Y G V S P T K L N D L C F T N V Y A D S F V I R G D E V R Q I A P G Q T G K I A D Y N Y K L P D D F T G C V I A W N S N N L D S K V G G N Y N Y L Y R L F R K S N L K P F E R D I S T E I Y Q A G S T P C N G V E G F N C Y F P L Q S Y G F Q P T N G V G Y Q P Y R V V V L S F E L L H A P A T V C G K'"
      ]
     },
     "execution_count": 3,
     "metadata": {},
     "output_type": "execute_result"
    }
   ],
   "source": [
    "ds[0]['pdb_sequence']"
   ]
  },
  {
   "cell_type": "code",
   "execution_count": 4,
   "metadata": {},
   "outputs": [
    {
     "data": {
      "text/plain": [
       "('T N L C P F G E V F N A T R F A S V Y A W N R K R I S N C V A D Y S V L Y N S A S F S T F K C Y G V S P T K L N D L C F T N V Y A D S F V I R G D E V R Q I A P G Q T G K I A D Y N Y K L P D D F T G C V I A W N S N N L D S K V G G N Y N Y L Y R L F R K S N L K P F E R D I S T E I Y Q A G S T P C N G V E G F N C Y F P L Q S Y G F Q P T N G V G Y Q P Y R V V V L S F E L L H A P A T V C G K',\n",
       " 'T N L C P F G E V F N A T R F A S V Y A W N R K R I S N C V A D Y S V L Y N S A S F S T F K C Y G V S P T K L N D L C F T N V Y A D S F V I R G D E V R Q I A P G Q T G K I A D Y N Y K L P D D F T G C V I A W N S N N L D S K V G G N Y N Y L Y R L F R K S N L K P F E R D I S T E I Y Q A G S T P C N G V E G F N C Y F P L Q S Y G F Q P T N G V G Y Q P Y R V V V L S F E L L H A P A T V C G K ')"
      ]
     },
     "execution_count": 4,
     "metadata": {},
     "output_type": "execute_result"
    }
   ],
   "source": [
    "ds[0]['pdb_sequence'], enc_tokenizer.decode(enc_tokenizer.encode(ds[0]['pdb_sequence']))"
   ]
  },
  {
   "cell_type": "code",
   "execution_count": 5,
   "metadata": {},
   "outputs": [
    {
     "data": {
      "text/plain": [
       "torch.Size([1, 195, 148])"
      ]
     },
     "execution_count": 5,
     "metadata": {},
     "output_type": "execute_result"
    }
   ],
   "source": [
    "from model import PositionalEncoding, InputEmbeddings\n",
    "import torch\n",
    "\n",
    "x = enc_tokenizer.encode(ds[0]['pdb_sequence'])\n",
    "x = enc_tokenizer.to_tensor(x, dtype=torch.long)\n",
    "\n",
    "src_embed = InputEmbeddings(d_model=148, vocab_size=23) # (batch x seq_len) --> (batch x seq_len x d_model)\n",
    "src_pe = PositionalEncoding(d_model=148, seq_len=1000, dropout=0.1) # (batch x seq_len x d_model) --> (batch x seq_len x d_model)\n",
    "\n",
    "x = src_embed(x)\n",
    "x = src_pe(x)\n",
    "x.shape"
   ]
  }
 ],
 "metadata": {
  "kernelspec": {
   "display_name": "torch",
   "language": "python",
   "name": "python3"
  },
  "language_info": {
   "codemirror_mode": {
    "name": "ipython",
    "version": 3
   },
   "file_extension": ".py",
   "mimetype": "text/x-python",
   "name": "python",
   "nbconvert_exporter": "python",
   "pygments_lexer": "ipython3",
   "version": "3.9.20"
  }
 },
 "nbformat": 4,
 "nbformat_minor": 2
}
